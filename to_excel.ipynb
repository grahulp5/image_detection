{
 "cells": [
  {
   "cell_type": "code",
   "execution_count": 22,
   "id": "880b90ae",
   "metadata": {},
   "outputs": [
    {
     "name": "stdout",
     "output_type": "stream",
     "text": [
      "Requirement already satisfied: openpyxl in /Users/rahulgupta/anaconda3/envs/new/lib/python3.9/site-packages (3.1.2)\n",
      "Requirement already satisfied: et-xmlfile in /Users/rahulgupta/anaconda3/envs/new/lib/python3.9/site-packages (from openpyxl) (1.1.0)\n",
      "Note: you may need to restart the kernel to use updated packages.\n"
     ]
    }
   ],
   "source": [
    "pip install openpyxl"
   ]
  },
  {
   "cell_type": "code",
   "execution_count": 43,
   "id": "374294d7",
   "metadata": {},
   "outputs": [],
   "source": [
    "import os\n",
    "from openpyxl import Workbook\n",
    "\n",
    "def extract_file_names(directory_path):\n",
    "    file_names = []\n",
    "    for filename in os.listdir(directory_path):\n",
    "        if os.path.isfile(os.path.join(directory_path, filename)):\n",
    "            # Check if the file does not have a '.txt' extension before adding it to the list\n",
    "            if not filename.lower().endswith('.txt'):\n",
    "                file_names.append(filename)\n",
    "    return file_names\n",
    "\n",
    "def save_to_excel(file_names, excel_filename):\n",
    "    wb = Workbook()\n",
    "    ws = wb.active\n",
    "    for index, file_name in enumerate(file_names, start=1):\n",
    "        ws.cell(row=index, column=1, value=file_name)\n",
    "    wb.save(excel_filename)\n",
    "\n",
    "if __name__ == \"__main__\":\n",
    "    # Replace 'your_directory_path' with the path of the directory containing the documents\n",
    "    directory_path = \"/Users/rahulgupta/Library/CloudStorage/OneDrive-LangaraCollege/DANA Project/task2/val\"\n",
    "    \n",
    "    # Replace 'output_file.xlsx' with the desired name for the Excel file\n",
    "    excel_filename = \"/Users/rahulgupta/Library/CloudStorage/OneDrive-LangaraCollege/DANA Project/task2/val.xlsx\"\n",
    "\n",
    "    file_names = extract_file_names(directory_path)\n",
    "    save_to_excel(file_names, excel_filename)\n"
   ]
  },
  {
   "cell_type": "code",
   "execution_count": null,
   "id": "f21a6f39",
   "metadata": {},
   "outputs": [],
   "source": []
  }
 ],
 "metadata": {
  "kernelspec": {
   "display_name": "Python 3 (ipykernel)",
   "language": "python",
   "name": "python3"
  },
  "language_info": {
   "codemirror_mode": {
    "name": "ipython",
    "version": 3
   },
   "file_extension": ".py",
   "mimetype": "text/x-python",
   "name": "python",
   "nbconvert_exporter": "python",
   "pygments_lexer": "ipython3",
   "version": "3.9.16"
  }
 },
 "nbformat": 4,
 "nbformat_minor": 5
}
